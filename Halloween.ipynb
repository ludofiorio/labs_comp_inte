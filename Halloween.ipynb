{
 "cells": [
  {
   "cell_type": "markdown",
   "id": "185f9931-b384-4fdc-a5b2-eea785428bb8",
   "metadata": {},
   "source": [
    "Copyright **`(c)`** 2023 Giovanni Squillero `<giovanni.squillero@polito.it>`  \n",
    "[`https://github.com/squillero/computational-intelligence`](https://github.com/squillero/computational-intelligence)  \n",
    "Free for personal or classroom use; see [`LICENSE.md`](https://github.com/squillero/computational-intelligence/blob/master/LICENSE.md) for details.  "
   ]
  },
  {
   "cell_type": "code",
   "execution_count": 179,
   "id": "3ffe7245-e849-41d0-9698-5f0e0b83fee9",
   "metadata": {},
   "outputs": [],
   "source": [
    "from itertools import product\n",
    "from random import random, randint, shuffle, seed, choice\n",
    "from functools import reduce\n",
    "import numpy as np\n",
    "from scipy import sparse\n",
    "from copy import copy"
   ]
  },
  {
   "cell_type": "code",
   "execution_count": 180,
   "id": "6f03bd67-78a0-4d72-95b7-77a918727b91",
   "metadata": {},
   "outputs": [],
   "source": [
    "def make_set_covering_problem(num_points, num_sets, density):\n",
    "    \"\"\"Returns a sparse array where rows are sets and columns are the covered items\"\"\"\n",
    "    seed(num_points * 2654435761 + num_sets + density)\n",
    "    sets = sparse.lil_array((num_sets, num_points), dtype=bool)\n",
    "    for s, p in product(range(num_sets), range(num_points)):\n",
    "        if random() < density:\n",
    "            sets[s, p] = True\n",
    "    for p in range(num_points):\n",
    "        sets[randint(0, num_sets - 1), p] = True\n",
    "    return sets"
   ]
  },
  {
   "cell_type": "markdown",
   "id": "82b0be37-21d9-492d-9a1d-cf0cdf0ddd76",
   "metadata": {},
   "source": [
    "# Halloween Challenge\n",
    "\n",
    "Find the best solution with the fewest calls to the fitness functions for:\n",
    "\n",
    "* `num_points = [100, 1_000, 5_000]`\n",
    "* `num_sets = num_points`\n",
    "* `density = [.3, .7]` "
   ]
  },
  {
   "cell_type": "code",
   "execution_count": 181,
   "id": "221ffdba-5d3d-48cc-bd08-45ccc9366ea6",
   "metadata": {},
   "outputs": [
    {
     "name": "stdout",
     "output_type": "stream",
     "text": [
      "Element at row=42 and column=42 : True\n"
     ]
    }
   ],
   "source": [
    "PROBLEM_SIZE = 5000\n",
    "NUM_SETS = 5000\n",
    "DENSITY = 0.7\n",
    "x = make_set_covering_problem(PROBLEM_SIZE, NUM_SETS, DENSITY)\n",
    "print(\"Element at row=42 and column=42 :\", x[42, 42])\n"
   ]
  },
  {
   "cell_type": "code",
   "execution_count": 182,
   "id": "6492337b-8429-472d-9c3e-c79c5b46da54",
   "metadata": {},
   "outputs": [],
   "source": [
    "def fitness(state):\n",
    "    cost = sum(state)\n",
    "    valid = x[state, :].sum(axis = 0, dtype = bool).sum() \n",
    "    return valid, -cost"
   ]
  },
  {
   "cell_type": "markdown",
   "id": "6c81d930",
   "metadata": {},
   "source": [
    "my tweak functions considers if we reached the gol or not and add or remove a set depending on the conditions"
   ]
  },
  {
   "cell_type": "code",
   "execution_count": 183,
   "id": "f6d92319",
   "metadata": {},
   "outputs": [],
   "source": [
    "def tweak(state,valid,cost):\n",
    "    new_state = copy(state)\n",
    "    if(valid == PROBLEM_SIZE):\n",
    "        index = randint(0, -cost - 1)\n",
    "        for i in range(NUM_SETS):\n",
    "            if (index==0 and new_state[i]==True):\n",
    "                 new_state[i] = not new_state[i]\n",
    "                 break\n",
    "            if new_state[i] == True:\n",
    "                index=index-1\n",
    "    else:\n",
    "        index=randint(0,NUM_SETS-1)\n",
    "        while new_state[index]==True:\n",
    "            index=randint(0,NUM_SETS-1)\n",
    "        new_state[index]= not new_state[index]\n",
    "    return new_state\n"
   ]
  },
  {
   "cell_type": "code",
   "execution_count": 184,
   "id": "dd413130",
   "metadata": {},
   "outputs": [
    {
     "name": "stdout",
     "output_type": "stream",
     "text": [
      "(0, 0)\n",
      "(3483, -1)\n",
      "(4534, -2)\n",
      "(4853, -3)\n",
      "(4951, -4)\n",
      "(4986, -5)\n",
      "(4995, -6)\n",
      "(4998, -7)\n",
      "(4999, -8)\n",
      "(5000, -9)\n",
      "(5000, -8)\n",
      "number of fitness 161\n"
     ]
    }
   ],
   "source": [
    "current_state = [\n",
    "    choice([False, False, False, False, False, False]) for _ in range(NUM_SETS)\n",
    "]\n",
    "print(fitness(current_state))\n",
    "valid,cost = fitness(current_state)\n",
    "changes = 0\n",
    "num_fitness = 0\n",
    "MESA_THRESHOLD = 150\n",
    "\n",
    "while changes<MESA_THRESHOLD:\n",
    "    new_state = tweak(current_state,valid,cost)\n",
    "    changes += 1\n",
    "    num_fitness += 1\n",
    "    if fitness(new_state) >= (valid,cost):\n",
    "        current_state = new_state\n",
    "        changes=0\n",
    "        valid,cost = fitness(current_state)\n",
    "        print(fitness(current_state))\n",
    "print(f\"number of fitness {num_fitness}\")"
   ]
  }
 ],
 "metadata": {
  "kernelspec": {
   "display_name": "Python 3 (ipykernel)",
   "language": "python",
   "name": "python3"
  },
  "language_info": {
   "codemirror_mode": {
    "name": "ipython",
    "version": 3
   },
   "file_extension": ".py",
   "mimetype": "text/x-python",
   "name": "python",
   "nbconvert_exporter": "python",
   "pygments_lexer": "ipython3",
   "version": "3.12.0"
  }
 },
 "nbformat": 4,
 "nbformat_minor": 5
}
