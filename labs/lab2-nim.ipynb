{
 "cells": [
  {
   "cell_type": "markdown",
   "metadata": {
    "pycharm": {
     "name": "#%% md\n"
    }
   },
   "source": [
    "Copyright **`(c)`** 2022 Giovanni Squillero `<squillero@polito.it>`  \n",
    "[`https://github.com/squillero/computational-intelligence`](https://github.com/squillero/computational-intelligence)  \n",
    "Free for personal or classroom use; see [`LICENSE.md`](https://github.com/squillero/computational-intelligence/blob/master/LICENSE.md) for details.  \n"
   ]
  },
  {
   "cell_type": "markdown",
   "metadata": {
    "pycharm": {
     "name": "#%%\n"
    }
   },
   "source": [
    "# Lab 3: ES\n",
    "\n",
    "## Task\n",
    "\n",
    "Write agents able to play [*Nim*](https://en.wikipedia.org/wiki/Nim), with an arbitrary number of rows and an upper bound $k$ on the number of objects that can be removed in a turn (a.k.a., *subtraction game*).\n",
    "\n",
    "The goal of the game is to **avoid** taking the last object.\n",
    "\n",
    "* Task2.1: An agent using fixed rules based on *nim-sum* (i.e., an *expert system*)\n",
    "* Task2.2: An agent using evolved rules using ES\n",
    "\n",
    "## Instructions\n",
    "\n",
    "* Create the directory `lab2` inside the course repo \n",
    "* Put a `README.md` and your solution (all the files, code and auxiliary data if needed)\n",
    "\n",
    "## Notes\n",
    "\n",
    "* Working in group is not only allowed, but recommended (see: [Ubuntu](https://en.wikipedia.org/wiki/Ubuntu_philosophy) and [Cooperative Learning](https://files.eric.ed.gov/fulltext/EJ1096789.pdf)). Collaborations must be explicitly declared in the `README.md`.\n",
    "* [Yanking](https://www.emacswiki.org/emacs/KillingAndYanking) from the internet is allowed, but sources must be explicitly declared in the `README.md`.\n",
    "\n"
   ]
  },
  {
   "cell_type": "code",
   "execution_count": 2,
   "metadata": {},
   "outputs": [],
   "source": [
    "import logging\n",
    "from pprint import pprint, pformat\n",
    "from collections import namedtuple\n",
    "import random\n",
    "from copy import deepcopy\n"
   ]
  },
  {
   "cell_type": "markdown",
   "metadata": {},
   "source": [
    "## The *Nim* and *Nimply* classes"
   ]
  },
  {
   "cell_type": "code",
   "execution_count": 3,
   "metadata": {},
   "outputs": [],
   "source": [
    "Nimply = namedtuple(\"Nimply\", \"row, num_objects\")\n"
   ]
  },
  {
   "cell_type": "code",
   "execution_count": 50,
   "metadata": {},
   "outputs": [],
   "source": [
    "class Nim:\n",
    "    def __init__(self, num_rows: int, k: int = None) -> None:\n",
    "        self._rows = [i * 2 + 1 for i in range(num_rows)]\n",
    "        self._k = k\n",
    "\n",
    "    def __bool__(self):\n",
    "        return sum(self._rows) > 0\n",
    "\n",
    "    def __str__(self):\n",
    "        return \"<\" + \" \".join(str(_) for _ in self._rows) + \">\"\n",
    "\n",
    "    @property\n",
    "    def rows(self) -> tuple:\n",
    "        return tuple(self._rows)\n",
    "\n",
    "    def nimming(self, ply: Nimply) -> None:\n",
    "        row, num_objects = ply\n",
    "        assert self._rows[row] >= num_objects\n",
    "        assert self._k is None or num_objects <= self._k\n",
    "        self._rows[row] -= num_objects\n"
   ]
  },
  {
   "cell_type": "markdown",
   "metadata": {},
   "source": [
    "## Sample (and silly) startegies "
   ]
  },
  {
   "cell_type": "code",
   "execution_count": 5,
   "metadata": {},
   "outputs": [],
   "source": [
    "def pure_random(state: Nim) -> Nimply:\n",
    "    \"\"\"A completely random move\"\"\"\n",
    "    row = random.choice([r for r, c in enumerate(state.rows) if c > 0])\n",
    "    num_objects = random.randint(1, state.rows[row])\n",
    "    return Nimply(row, num_objects)\n"
   ]
  },
  {
   "cell_type": "code",
   "execution_count": 6,
   "metadata": {},
   "outputs": [],
   "source": [
    "def eliminate_two_row(state: Nim) -> Nimply:\n",
    "    \"\"\"cancel the first two elements row\"\"\"\n",
    "    possible_moves = [(r, elements) for r, elements in enumerate(state.rows) if elements==2]\n",
    "    if  not possible_moves:\n",
    "        return pure_random(state)\n",
    "    r,num_obj = possible_moves[0]\n",
    "    return Nimply(r,num_obj)"
   ]
  },
  {
   "cell_type": "code",
   "execution_count": 7,
   "metadata": {},
   "outputs": [],
   "source": [
    "def eliminate_one_row(state: Nim) -> Nimply:\n",
    "    \"\"\"cancel the first one element row\"\"\"\n",
    "    possible_moves = [(r, elements) for r, elements in enumerate(state.rows) if elements==1]\n",
    "    if  not possible_moves:\n",
    "        return pure_random(state)\n",
    "    r,num_obj = possible_moves[0]\n",
    "    return Nimply(r,num_obj)"
   ]
  },
  {
   "cell_type": "code",
   "execution_count": 8,
   "metadata": {},
   "outputs": [],
   "source": [
    "def leave_one_elem_row(state: Nim) -> Nimply:\n",
    "    \"\"\"I leave one row elem if possible\"\"\"\n",
    "    possible_moves = [(r, elements-1) for r, elements in enumerate(state.rows) if elements>1]\n",
    "    if  not possible_moves:\n",
    "        return pure_random(state)\n",
    "    r,num_obj = possible_moves[0]\n",
    "    return Nimply(r,num_obj)"
   ]
  },
  {
   "cell_type": "code",
   "execution_count": 9,
   "metadata": {},
   "outputs": [],
   "source": [
    "def gabriele(state: Nim) -> Nimply:\n",
    "    \"\"\"Pick always the maximum possible number of the lowest row\"\"\"\n",
    "    possible_moves = [(r, o) for r, c in enumerate(state.rows) for o in range(1, c + 1)]\n",
    "    return Nimply(*max(possible_moves, key=lambda m: (-m[0], m[1])))#using the lambada retrive the smallest first and second greater\n"
   ]
  },
  {
   "cell_type": "code",
   "execution_count": 119,
   "metadata": {},
   "outputs": [],
   "source": [
    "class adaptive:\n",
    "    def __init__(self) -> None:\n",
    "        self.genome = {leave_one_elem_row: .2, eliminate_one_row: .2, pure_random: .2, eliminate_two_row: .2, optimal: .2 }\n",
    "        self.tweak_value = .2\n",
    "        #self.tweak_counter = 0\n",
    "        #self.tweak_decrease = .0\n",
    "        #self.genome = {pure_random: .2, optimal: .2 }\n",
    "\n",
    "         \n",
    "    def tweak(self) -> None:\n",
    "        #self.tweak_counter += 1\n",
    "        #if self.tweak_counter == 33:\n",
    "        #    self.tweak_value = self.tweak_value-self.tweak_decrease\n",
    "        #    self.tweak_counter = 0\n",
    "        key = random.choice([eliminate_two_row, eliminate_one_row, optimal, pure_random, leave_one_elem_row])\n",
    "        #key = random.choice([ optimal, pure_random])\n",
    "        value = self.genome[key] + random.choice([1,-1])*self.tweak_value\n",
    "        if value >= 0:\n",
    "            self.genome[key] = value\n",
    "                \n",
    "    def adaptive(self, state: Nim) -> Nimply:\n",
    "        rand = random.random()*sum(self.genome.values())\n",
    "        for key,value in self.genome.items():\n",
    "            rand -= value\n",
    "            if rand <= 0:\n",
    "                return key(state) \n",
    "            \n",
    "\n",
    "            "
   ]
  },
  {
   "cell_type": "code",
   "execution_count": 48,
   "metadata": {},
   "outputs": [],
   "source": [
    "import numpy as np\n",
    "\n",
    "\n",
    "def nim_sum(state: Nim) -> int:\n",
    "    counter = 0\n",
    "    for c in state.rows:\n",
    "        if c == 1:\n",
    "            counter = counter + 1\n",
    "        elif c != 0:\n",
    "            counter= False\n",
    "            break\n",
    "    if counter != False and counter%2 == 1:\n",
    "        return -1\n",
    "    tmp = np.array([tuple(int(x) for x in f\"{c:032b}\") for c in state.rows])\n",
    "    xor = tmp.sum(axis=0) % 2\n",
    "    return int(\"\".join(str(_) for _ in xor), base=2)\n",
    "\n",
    "\n",
    "def analize(raw: Nim) -> dict:\n",
    "    cooked = dict()\n",
    "    cooked[\"possible_moves\"] = dict()\n",
    "    for ply in (Nimply(r, o) for r, c in enumerate(raw.rows) for o in range(1, c + 1)):\n",
    "        tmp = deepcopy(raw)\n",
    "        tmp.nimming(ply)\n",
    "        cooked[\"possible_moves\"][ply] = nim_sum(tmp)\n",
    "    return cooked\n",
    "\n",
    "\n",
    "def optimal(state: Nim) -> Nimply:\n",
    "    analysis = analize(state)\n",
    "    logging.debug(f\"analysis:\\n{pformat(analysis)}\")\n",
    "    spicy_moves = [ply for ply, ns in analysis[\"possible_moves\"].items() if ns == -1]\n",
    "    if not spicy_moves:\n",
    "        spicy_moves = [ply for ply, ns in analysis[\"possible_moves\"].items() if ns == 0]\n",
    "        if not spicy_moves:\n",
    "            spicy_moves = list(analysis[\"possible_moves\"].keys())\n",
    "    ply = random.choice(spicy_moves)\n",
    "    return ply\n"
   ]
  },
  {
   "cell_type": "markdown",
   "metadata": {},
   "source": [
    "## Oversimplified match"
   ]
  },
  {
   "cell_type": "code",
   "execution_count": 52,
   "metadata": {},
   "outputs": [
    {
     "name": "stderr",
     "output_type": "stream",
     "text": [
      "INFO:root:init : <1 3 5 7>\n",
      "INFO:root:starting nim sum 0\n",
      "INFO:root:ply: player 0 plays Nimply(row=1, num_objects=1)\n",
      "INFO:root:status: <1 2 5 7>\n",
      "INFO:root:nim sum=1\n",
      "INFO:root:ply: player 1 plays Nimply(row=0, num_objects=1)\n",
      "INFO:root:status: <0 2 5 7>\n",
      "INFO:root:nim sum=0\n",
      "INFO:root:ply: player 0 plays Nimply(row=1, num_objects=2)\n",
      "INFO:root:status: <0 0 5 7>\n",
      "INFO:root:nim sum=2\n",
      "INFO:root:ply: player 1 plays Nimply(row=3, num_objects=2)\n",
      "INFO:root:status: <0 0 5 5>\n",
      "INFO:root:nim sum=0\n",
      "INFO:root:ply: player 0 plays Nimply(row=3, num_objects=2)\n",
      "INFO:root:status: <0 0 5 3>\n",
      "INFO:root:nim sum=6\n",
      "INFO:root:ply: player 1 plays Nimply(row=2, num_objects=2)\n",
      "INFO:root:status: <0 0 3 3>\n",
      "INFO:root:nim sum=0\n",
      "INFO:root:ply: player 0 plays Nimply(row=2, num_objects=1)\n",
      "INFO:root:status: <0 0 2 3>\n",
      "INFO:root:nim sum=1\n",
      "INFO:root:ply: player 1 plays Nimply(row=3, num_objects=1)\n",
      "INFO:root:status: <0 0 2 2>\n",
      "INFO:root:nim sum=0\n",
      "INFO:root:ply: player 0 plays Nimply(row=2, num_objects=2)\n",
      "INFO:root:status: <0 0 0 2>\n",
      "INFO:root:nim sum=2\n",
      "INFO:root:ply: player 1 plays Nimply(row=3, num_objects=1)\n",
      "INFO:root:status: <0 0 0 1>\n",
      "INFO:root:nim sum=-1\n",
      "INFO:root:ply: player 0 plays Nimply(row=3, num_objects=1)\n",
      "INFO:root:status: <0 0 0 0>\n",
      "INFO:root:nim sum=0\n",
      "INFO:root:status: Player 1 won!\n"
     ]
    }
   ],
   "source": [
    "logging.getLogger().setLevel(logging.INFO)\n",
    "\n",
    "strategy = (eliminate_two_row, optimal)\n",
    "\n",
    "nim = Nim(4)\n",
    "logging.info(f\"init : {nim}\")\n",
    "logging.info(f\"starting nim sum {nim_sum(nim)}\")#cancel\n",
    "player = 0\n",
    "while nim:\n",
    "    ply = strategy[player](nim)\n",
    "    logging.info(f\"ply: player {player} plays {ply}\")\n",
    "    nim.nimming(ply)\n",
    "    logging.info(f\"status: {nim}\")\n",
    "    logging.info(f\"nim sum={nim_sum(nim)}\")#cancel\n",
    "    player = 1 - player\n",
    "logging.info(f\"status: Player {player} won!\")\n"
   ]
  },
  {
   "cell_type": "code",
   "execution_count": 54,
   "metadata": {},
   "outputs": [],
   "source": [
    "\n",
    "def game(player0,player1,dim):\n",
    "    strategy = (player0, player1)\n",
    "    nim = Nim(dim)\n",
    "    player = 0\n",
    "\n",
    "    while nim:\n",
    "        ply = strategy[player](nim)\n",
    "        nim.nimming(ply)\n",
    "        player = 1 - player\n",
    "        \n",
    "    return player\n"
   ]
  },
  {
   "cell_type": "code",
   "execution_count": 113,
   "metadata": {},
   "outputs": [],
   "source": [
    "GAMES = 50\n",
    "DIM = [4,5]\n",
    "\n",
    "def fitness(player0,player1):\n",
    "    result = 0\n",
    "    for _ in range(GAMES):\n",
    "        dim = random.choice(DIM)\n",
    "        result = result + 1-game(player0,player1,dim)\n",
    "    for _ in range(GAMES):\n",
    "        dim = random.choice(DIM)\n",
    "        result = result + game(player1,player0,dim)\n",
    "    return result"
   ]
  },
  {
   "cell_type": "code",
   "execution_count": 121,
   "metadata": {},
   "outputs": [
    {
     "name": "stdout",
     "output_type": "stream",
     "text": [
      "69-56\n",
      "69-63\n",
      "69-77\n",
      "77-64\n",
      "77-72\n",
      "77-72\n",
      "77-72\n",
      "77-74\n",
      "77-66\n",
      "77-73\n",
      "77-61\n",
      "77-71\n",
      "77-71\n",
      "77-62\n",
      "77-70\n",
      "77-53\n",
      "77-74\n",
      "77-72\n",
      "77-64\n",
      "77-64\n",
      "77-77\n",
      "77-67\n",
      "77-79\n",
      "79-74\n",
      "79-77\n",
      "79-86\n",
      "86-82\n",
      "86-84\n",
      "86-86\n",
      "86-92\n",
      "92-94\n",
      "94-82\n",
      "94-93\n",
      "94-100\n",
      "100-88\n",
      "100-100\n",
      "100-78\n",
      "100-75\n",
      "100-78\n",
      "100-100\n",
      "100-100\n",
      "100-100\n",
      "100-100\n",
      "100-88\n",
      "100-82\n",
      "100-80\n",
      "100-100\n",
      "100-100\n",
      "100-90\n",
      "100-100\n",
      "100-100\n",
      "100-100\n",
      "100-100\n",
      "100-100\n",
      "100-100\n",
      "100-79\n",
      "100-81\n",
      "100-100\n",
      "100-100\n",
      "100-100\n",
      "100-89\n",
      "100-100\n",
      "100-93\n",
      "100-100\n",
      "100-100\n",
      "100-100\n",
      "100-100\n",
      "100-91\n",
      "100-99\n",
      "100-100\n",
      "100-91\n",
      "100-99\n",
      "100-92\n",
      "100-100\n",
      "100-100\n",
      "100-100\n",
      "100-89\n",
      "100-100\n",
      "100-92\n",
      "100-100\n",
      "100-89\n",
      "100-90\n",
      "100-93\n",
      "100-100\n",
      "100-100\n",
      "100-88\n",
      "100-87\n",
      "100-100\n",
      "100-100\n",
      "100-100\n",
      "100-100\n",
      "100-94\n",
      "100-99\n",
      "100-100\n",
      "100-90\n",
      "100-100\n",
      "100-100\n",
      "100-100\n",
      "100-97\n",
      "100-100\n",
      "{<function pure_random at 0x0000023CFCDB89A0>: 0.0,\n",
      " <function eliminate_one_row at 0x0000023CFCDB8D60>: 0.0,\n",
      " <function eliminate_two_row at 0x0000023CFCDB9620>: 0.0,\n",
      " <function leave_one_elem_row at 0x0000023CFCDB9E40>: 0.0,\n",
      " <function optimal at 0x0000023CFD26A3E0>: 1.4}\n"
     ]
    }
   ],
   "source": [
    "current_state = adaptive()\n",
    "fitness_current_state = fitness(current_state.adaptive,eliminate_one_row)\n",
    "for _ in range(100):\n",
    "    new_state = deepcopy(current_state)\n",
    "    new_state.tweak()\n",
    "    fitness_new_state = fitness(new_state.adaptive,eliminate_one_row)\n",
    "    print(f\"{fitness_current_state}-{fitness_new_state}\")\n",
    "    if fitness_new_state>=fitness_current_state:\n",
    "        current_state = new_state\n",
    "        fitness_current_state = fitness_new_state\n",
    "        \n",
    "        \n",
    "pprint(current_state.genome)\n"
   ]
  }
 ],
 "metadata": {
  "kernelspec": {
   "display_name": "Python 3.10.7 ('ci22-dPIXJ0_o-py3.10')",
   "language": "python",
   "name": "python3"
  },
  "language_info": {
   "codemirror_mode": {
    "name": "ipython",
    "version": 3
   },
   "file_extension": ".py",
   "mimetype": "text/x-python",
   "name": "python",
   "nbconvert_exporter": "python",
   "pygments_lexer": "ipython3",
   "version": "3.12.0"
  },
  "vscode": {
   "interpreter": {
    "hash": "10197e8e2f2aa67e2c349105091c77f4cd384fce4877865f002d9ec653f96bc0"
   }
  }
 },
 "nbformat": 4,
 "nbformat_minor": 2
}
