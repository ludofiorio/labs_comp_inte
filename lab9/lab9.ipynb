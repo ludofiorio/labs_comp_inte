{
 "cells": [
  {
   "cell_type": "markdown",
   "metadata": {},
   "source": [
    "Copyright **`(c)`** 2023 Giovanni Squillero `<giovanni.squillero@polito.it>`  \n",
    "[`https://github.com/squillero/computational-intelligence`](https://github.com/squillero/computational-intelligence)  \n",
    "Free for personal or classroom use; see [`LICENSE.md`](https://github.com/squillero/computational-intelligence/blob/master/LICENSE.md) for details.  "
   ]
  },
  {
   "cell_type": "markdown",
   "metadata": {},
   "source": [
    "# LAB9\n",
    "\n",
    "Write a local-search algorithm (eg. an EA) able to solve the *Problem* instances 1, 2, 5, and 10 on a 1000-loci genomes, using a minimum number of fitness calls. That's all.\n",
    "\n",
    "### Deadlines:\n",
    "\n",
    "* Submission: Sunday, December 3 ([CET](https://www.timeanddate.com/time/zones/cet))\n",
    "* Reviews: Sunday, December 10 ([CET](https://www.timeanddate.com/time/zones/cet))\n",
    "\n",
    "Notes:\n",
    "\n",
    "* Reviews will be assigned  on Monday, December 4\n",
    "* You need to commit in order to be selected as a reviewer (ie. better to commit an empty work than not to commit)"
   ]
  },
  {
   "cell_type": "code",
   "execution_count": 27,
   "metadata": {},
   "outputs": [],
   "source": [
    "from random import choices, randint, random\n",
    "from dataclasses import dataclass\n",
    "import numpy as np\n",
    "import math\n",
    "from copy import deepcopy\n",
    "import lab9_lib"
   ]
  },
  {
   "cell_type": "code",
   "execution_count": 2,
   "metadata": {},
   "outputs": [
    {
     "name": "stdout",
     "output_type": "stream",
     "text": [
      "01110100111001001000110100100011110000100000010010: 7.33%\n",
      "11010101100010101010001001001101110100110111000110: 9.13%\n",
      "10110110110101000100010001010001100011001001111100: 7.33%\n",
      "10010111000001011000001011110100110010111100111000: 9.14%\n",
      "00011100010110011110110101010100111111010010100111: 23.33%\n",
      "00001010111101001011101010110101001110111000101010: 9.11%\n",
      "10000000010101011001101110101101101011100111100011: 7.33%\n",
      "00011100110001111011110101010110010110010010000010: 23.36%\n",
      "00110101011111001101010110100000001111011111000100: 15.33%\n",
      "00001001000010010101001111100100000011110011010101: 15.34%\n",
      "10\n"
     ]
    }
   ],
   "source": [
    "fitness = lab9_lib.make_problem(10)\n",
    "for n in range(10):\n",
    "    ind = choices([0, 1], k=50)\n",
    "    print(f\"{''.join(str(g) for g in ind)}: {fitness(ind):.2%}\")\n",
    "\n",
    "print(fitness.calls)"
   ]
  },
  {
   "cell_type": "markdown",
   "metadata": {},
   "source": [
    "A class to describe a single element"
   ]
  },
  {
   "cell_type": "markdown",
   "metadata": {},
   "source": [
    "Some constants"
   ]
  },
  {
   "cell_type": "code",
   "execution_count": 55,
   "metadata": {},
   "outputs": [],
   "source": [
    "GENOME_LENGTH = 1_000\n",
    "TOURNAMENT_SIZE = 3\n",
    "NUM_EPOCH = 100\n",
    "OFFSPRING_SIZE = 100\n",
    "STARTING_SIZE = 10\n",
    "PROBLEM_SIZE = [1,2,5,10]"
   ]
  },
  {
   "cell_type": "markdown",
   "metadata": {},
   "source": [
    "A class to contains all the population every single individual of the population is an instance of the class Element"
   ]
  },
  {
   "cell_type": "code",
   "execution_count": 4,
   "metadata": {},
   "outputs": [],
   "source": [
    "@dataclass\n",
    "class Element:\n",
    "    def __init__(self, gen) -> None:\n",
    "        self.gen = gen\n",
    "        self.fit = fitness(gen)\n"
   ]
  },
  {
   "cell_type": "code",
   "execution_count": 5,
   "metadata": {},
   "outputs": [],
   "source": [
    "@dataclass\n",
    "class Population:\n",
    "    def __init__(self, size_starting_population: int):\n",
    "        self.population = []\n",
    "        for _ in range(size_starting_population):\n",
    "            gen = choices([0, 1], k=GENOME_LENGTH)  # K = 1000\n",
    "            self.population.append(Element(gen))\n",
    "\n",
    "    def add_offspring(self, offspring):\n",
    "        self.population.append(offspring)\n",
    "\n",
    "    def scale_down_population(self, size):\n",
    "        self.population.sort(key=lambda e: e.fit, reverse=True)\n",
    "        self.population = self.population[:size]\n",
    "\n",
    "    def pickone_random(self) -> Element:\n",
    "        rand_int = randint(0, len(self.population) - 1)\n",
    "        return self.population[rand_int]"
   ]
  },
  {
   "cell_type": "markdown",
   "metadata": {},
   "source": [
    "GA (only works with problem size 1-2)\n",
    "Crossover and mutation\n",
    "I play a 3 people tournament to select the parents and than I perform a little mutation on the offspring"
   ]
  },
  {
   "cell_type": "code",
   "execution_count": 6,
   "metadata": {},
   "outputs": [],
   "source": [
    "def tournament(population: Population, tournament_size=1) -> Element:\n",
    "    best_elem = None\n",
    "    for _ in range(tournament_size):\n",
    "        elem = population.pickone_random()\n",
    "        if best_elem == None:\n",
    "            best_elem = elem\n",
    "        if best_elem.fit < elem.fit:\n",
    "            best_elem = elem\n",
    "    return best_elem\n",
    "\n",
    "\n",
    "def mutate(element: Element, num_of_changes=1) -> Element:\n",
    "    \"\"\"I've implemented the possiibilty to mutete more than one bit\"\"\"\n",
    "    for _ in range(num_of_changes):\n",
    "        rand_index = randint(0, GENOME_LENGTH-1)\n",
    "        element.gen[rand_index] = 1 - element.gen[rand_index]\n",
    "    return element\n",
    "\n",
    "def one_cut_crossover(parents) -> Element:\n",
    "    \"\"\"function to do one cut crossover\"\"\"\n",
    "    rand_int = randint(0, GENOME_LENGTH-1)\n",
    "    new_gen = parents[0].gen[rand_int:] + parents[1].gen[:rand_int]\n",
    "    return Element(new_gen)\n",
    "\n",
    "def crossover(parents) -> Element:\n",
    "    \"\"\"classic crossover\"\"\"\n",
    "    new_gen = []\n",
    "    for i in range(GENOME_LENGTH):\n",
    "        new_gen.append(parents[i%2].gen[i])\n",
    "    return Element(new_gen)\n",
    "\n",
    "def random_crossover(parents) -> Element:\n",
    "    \"\"\"crossover where every genome is pick random from one parent DOESN'T WORK\"\"\"\n",
    "    new_gen = []\n",
    "    for i in range(GENOME_LENGTH):\n",
    "        new_gen.append(parents[choices([0,1],k=1).pop()].gen[i])\n",
    "    return Element(new_gen)"
   ]
  },
  {
   "cell_type": "code",
   "execution_count": 56,
   "metadata": {},
   "outputs": [
    {
     "name": "stdout",
     "output_type": "stream",
     "text": [
      "Problem size 1 -> The best result found is : 0.663 with 10000 fitness calls\n",
      "Problem size 2 -> The best result found is : 0.538 with 10000 fitness calls\n",
      "Problem size 5 -> The best result found is : 0.31053 with 10000 fitness calls\n",
      "Problem size 10 -> The best result found is : 0.204155 with 10000 fitness calls\n"
     ]
    }
   ],
   "source": [
    "for problem_size in PROBLEM_SIZE:\n",
    "    # define the population\n",
    "    population = Population(STARTING_SIZE)\n",
    "\n",
    "    # start the problem\n",
    "    fitness = lab9_lib.make_problem(problem_size)\n",
    "\n",
    "    for _ in range(NUM_EPOCH):\n",
    "        for _ in range(OFFSPRING_SIZE):\n",
    "            parent1 = tournament(population, TOURNAMENT_SIZE)\n",
    "            parent2 = tournament(population, TOURNAMENT_SIZE)\n",
    "            elem = crossover([parent1,parent2])\n",
    "            # mutation\n",
    "            if random() < 0.5:\n",
    "                elem = mutate(elem)\n",
    "            population.add_offspring(elem)\n",
    "        #reduce the population\n",
    "        population.scale_down_population(OFFSPRING_SIZE)\n",
    "        if population.population[0].fit == 1:\n",
    "            break\n",
    "\n",
    "\n",
    "    population.scale_down_population(1)\n",
    "    print(f\"Problem size {problem_size} -> The best result found is : {population.population.pop().fit} with {fitness.calls} fitness calls\")"
   ]
  },
  {
   "cell_type": "markdown",
   "metadata": {},
   "source": [
    "ES now I try to mutate a lot of bits every single time, I start with more or less 100 bit mutation every time I call mutate()"
   ]
  },
  {
   "cell_type": "code",
   "execution_count": 29,
   "metadata": {},
   "outputs": [],
   "source": [
    "@dataclass\n",
    "class Individual:\n",
    "    def __init__(self,elem :Element, sigma :float, loci :int, prob :float):\n",
    "        self.elem = elem\n",
    "        self.loci = loci\n",
    "        self.prob = prob\n",
    "        self.sigma = sigma\n",
    "        \n",
    "    def mutate(self):\n",
    "        \"\"\"mutate following a guassian\"\"\"\n",
    "        if self.elem.fit < 0.8: #the fitness should go from 0 to 1 so I stop the update around 0.8 because we are near the goal\n",
    "             self.sigma *= np.e**((1/32) * np.random.normal(0,1))\n",
    "             self.loci *= math.ceil(np.random.normal(1,self.sigma))\n",
    "             self.prob = np.random.normal(0.5, self.sigma)#it has mu 0.5 because it can be equally 0 or 1\n",
    "             if self.prob < 0:\n",
    "                 self.prob = 0\n",
    "             if self.prob > 1:\n",
    "                self.prob = 1 \n",
    "        #actual mutation\n",
    "        for _ in range(self.loci):\n",
    "            rand_index = randint(0, GENOME_LENGTH-1)\n",
    "            if random() < self.prob:\n",
    "                self.elem.gen[rand_index] = 0\n",
    "            else:\n",
    "                self.elem.gen[rand_index] = 1"
   ]
  },
  {
   "cell_type": "code",
   "execution_count": 49,
   "metadata": {},
   "outputs": [],
   "source": [
    "@dataclass\n",
    "class PopulationES:\n",
    "    def __init__(self, size_starting_population: int):\n",
    "        self.population = []\n",
    "        for _ in range(size_starting_population):\n",
    "            gen = choices([0, 1], k=GENOME_LENGTH)  \n",
    "            self.population.append(Individual(Element(gen), 1, 100, 0 ))# sigma loci prob of 1 or 0\n",
    "\n",
    "    def add_offspring(self, offspring):\n",
    "        self.population.append(offspring)\n",
    "\n",
    "    def scale_down_population(self, size):\n",
    "        self.population.sort(key=lambda e: e.elem.fit, reverse=True)\n",
    "        self.population = self.population[:size]\n",
    "\n",
    "    def pickone_random(self) -> Individual:\n",
    "        rand_int = randint(0, len(self.population) - 1)\n",
    "        return self.population[rand_int]"
   ]
  },
  {
   "cell_type": "code",
   "execution_count": 57,
   "metadata": {},
   "outputs": [
    {
     "name": "stdout",
     "output_type": "stream",
     "text": [
      "Problem size 1 -> The best result found is : 1.0 with 450 fitness calls\n",
      "Problem size 2 -> The best result found is : 1.0 with 198 fitness calls\n",
      "Problem size 5 -> The best result found is : 1.0 with 659 fitness calls\n",
      "Problem size 10 -> The best result found is : 1.0 with 299 fitness calls\n"
     ]
    }
   ],
   "source": [
    "for problem_size in PROBLEM_SIZE:\n",
    "    # define the population\n",
    "    population = PopulationES(STARTING_SIZE)\n",
    "\n",
    "    # start the problem\n",
    "    fitness = lab9_lib.make_problem(problem_size)\n",
    "\n",
    "    for _ in range(NUM_EPOCH):\n",
    "        for _ in range(OFFSPRING_SIZE):\n",
    "                parent1 = population.pickone_random()\n",
    "                elem = Individual(parent1.elem,deepcopy(parent1.sigma),deepcopy(parent1.loci),deepcopy(parent1.prob))\n",
    "                if random() < 0.5:\n",
    "                    parent2 = population.pickone_random()\n",
    "                    new_elem = crossover([parent1.elem,parent2.elem])\n",
    "                    elem = Individual(new_elem, deepcopy(parent1.sigma), deepcopy(parent1.loci), deepcopy(parent1.prob))\n",
    "                # mutation\n",
    "                elem.mutate()\n",
    "                population.add_offspring(elem)\n",
    "        #reduce the population\n",
    "        population.scale_down_population(OFFSPRING_SIZE)\n",
    "        #stop if the goal is reached\n",
    "        if population.population[0].elem.fit == 1:\n",
    "            break\n",
    "\n",
    "\n",
    "    population.scale_down_population(1)\n",
    "    print(f\"Problem size {problem_size} -> The best result found is : {population.population.pop().elem.fit} with {fitness.calls} fitness calls\")"
   ]
  }
 ],
 "metadata": {
  "kernelspec": {
   "display_name": "ci-fLJ3OwGs-py3.12",
   "language": "python",
   "name": "python3"
  },
  "language_info": {
   "codemirror_mode": {
    "name": "ipython",
    "version": 3
   },
   "file_extension": ".py",
   "mimetype": "text/x-python",
   "name": "python",
   "nbconvert_exporter": "python",
   "pygments_lexer": "ipython3",
   "version": "3.12.0"
  }
 },
 "nbformat": 4,
 "nbformat_minor": 2
}
